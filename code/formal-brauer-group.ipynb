{
 "cells": [
  {
   "cell_type": "markdown",
   "metadata": {
    "collapsed": false
   },
   "source": [
    "<h1>Formal Brauer group of elliptic K3 surfaces</h1>\n"
   ]
  },
  {
   "cell_type": "markdown",
   "metadata": {
    "collapsed": false
   },
   "source": [
    "<p>In this Jupyter Notebook, we calculate the formal Brauer group of an elliptic surface to reproduce Artin&rsquo;s results [<a id=\"artin1974supersingular_return\" href=\"#artin1974supersingular\">1</a>, Theorem&nbsp;2.12].</p>\n",
    "<p>We follow the steps of Propp&rsquo;s algorithm [<a id=\"propp2018constructing_return1\" href=\"#propp2018constructing\">2</a>, Theorem&nbsp;7.1] for the calculus of the formal Brauer group of an elliptic K3 surface. See the code Propp [<a id=\"propp2018k3spectra_return\" href=\"#propp2018k3spectra\">3</a>] used for his computations.</p>\n"
   ]
  },
  {
   "cell_type": "markdown",
   "metadata": {
    "collapsed": false
   },
   "source": [
    "<h2>0. Formal group of an elliptic curve</h2>\n"
   ]
  },
  {
   "cell_type": "code",
   "execution_count": 1,
   "metadata": {
    "collapsed": false
   },
   "outputs": [
   ],
   "source": [
    "p = 2\n"
   ]
  },
  {
   "cell_type": "code",
   "execution_count": 2,
   "metadata": {
    "collapsed": false
   },
   "outputs": [
   ],
   "source": [
    "R.<a1,a2,a3,a4,a6> = PolynomialRing(GF(p))\n"
   ]
  },
  {
   "cell_type": "code",
   "execution_count": 3,
   "metadata": {
    "collapsed": false
   },
   "outputs": [
    {
     "name": "stdout",
     "output_type": "stream",
     "text": [
      "Multivariate Polynomial Ring in a1, a2, a3, a4, a6 over Finite Field of size 2\n"
     ]
    }
   ],
   "source": [
    "print(R)\n"
   ]
  },
  {
   "cell_type": "code",
   "execution_count": 4,
   "metadata": {
    "collapsed": false
   },
   "outputs": [
   ],
   "source": [
    "E = EllipticCurve(R,[a1,a2,a3,a4,a6])\n"
   ]
  },
  {
   "cell_type": "code",
   "execution_count": 5,
   "metadata": {
    "collapsed": false
   },
   "outputs": [
    {
     "data": {
      "text/html": [
       "<html>\\(\\displaystyle y^2 + a_{1} x y + a_{3} y = x^{3} + a_{2} x^{2} + a_{4} x + a_{6} \\)</html>"
      ],
      "text/latex": [
       "$\\displaystyle y^2 + a_{1} x y + a_{3} y = x^{3} + a_{2} x^{2} + a_{4} x + a_{6} $"
      ],
      "text/plain": [
       "Elliptic Curve defined by y^2 + a1*x*y + a3*y = x^3 + a2*x^2 + a4*x + a6 over Multivariate Polynomial Ring in a1, a2, a3, a4, a6 over Finite Field of size 2"
      ]
     },
     "execution_count": 5,
     "metadata": {
     },
     "output_type": "execute_result"
    }
   ],
   "source": [
    "show(E)\n"
   ]
  },
  {
   "cell_type": "code",
   "execution_count": 6,
   "metadata": {
    "collapsed": false
   },
   "outputs": [
    {
     "name": "stdout",
     "output_type": "stream",
     "text": [
      "Elliptic Curve defined by y^2 + a1*x*y + a3*y = x^3 + a2*x^2 + a4*x + a6 over Multivariate Polynomial Ring in a1, a2, a3, a4, a6 over Finite Field of size 2\n"
     ]
    }
   ],
   "source": [
    "print(E)\n"
   ]
  },
  {
   "cell_type": "code",
   "execution_count": 7,
   "metadata": {
    "collapsed": false
   },
   "outputs": [
   ],
   "source": [
    "Ehat = E.formal_group()\n"
   ]
  },
  {
   "cell_type": "code",
   "execution_count": 8,
   "metadata": {
    "collapsed": false
   },
   "outputs": [
    {
     "data": {
      "text/html": [
       "<html>\\(\\displaystyle t_{1} + t_{2} + a_{1} t_{1} t_{2} + a_{2} t_{1}^{2} t_{2} + a_{2} t_{1} t_{2}^{2} + \\left(a_{1} a_{2} + a_{3}\\right) t_{1}^{2} t_{2}^{2} + O(t_{1}, t_{2})^{5}\\)</html>"
      ],
      "text/latex": [
       "$\\displaystyle t_{1} + t_{2} + a_{1} t_{1} t_{2} + a_{2} t_{1}^{2} t_{2} + a_{2} t_{1} t_{2}^{2} + \\left(a_{1} a_{2} + a_{3}\\right) t_{1}^{2} t_{2}^{2} + O(t_{1}, t_{2})^{5}$"
      ],
      "text/plain": [
       "t1 + t2 + a1*t1*t2 + a2*t1^2*t2 + a2*t1*t2^2 + (a1*a2 + a3)*t1^2*t2^2 + O(t1, t2)^5"
      ]
     },
     "execution_count": 8,
     "metadata": {
     },
     "output_type": "execute_result"
    }
   ],
   "source": [
    "show(Ehat.group_law(5))\n"
   ]
  },
  {
   "cell_type": "markdown",
   "metadata": {
    "collapsed": false
   },
   "source": [
    "<h2>1. Formal group of (the generic fibre of) an elliptic surface</h2>\n"
   ]
  },
  {
   "cell_type": "code",
   "execution_count": 9,
   "metadata": {
    "collapsed": false
   },
   "outputs": [
   ],
   "source": [
    "p = 5\n"
   ]
  },
  {
   "cell_type": "markdown",
   "metadata": {
    "collapsed": false
   },
   "source": [
    "```\n",
    "S.<a10, a11, a12, a20, a21, a22, a23, a24, a30, a31, a32, a33, a34, a35, a36, a40, a41, a42, a43, a44, a45, a46, a47, a48, a60, a61, a62, a63, a64, a65, a66, a67, a68, a69, a610, a611, a612> = PolynomialRing(GF(p))\n",
    "R.<t> = PolynomialRing(S)\n",
    "a1 = R(a10 + a11*t + a12*t**2)\n",
    "a2 = R(a20 + a21*t + a22*t**2 + a23*t**3 + a24*t**4)\n",
    "a3 = R(a30 + a31*t + a32*t**2 + a33*t**3 + a34*t**4 + a35*t**5 + a36*t**6)\n",
    "a4 = R(a40 + a41*t + a42*t**2 + a43*t**3 + a44*t**4 + a45*t**5 + a46*t**6 + a47*t**7 + a48*t**8)\n",
    "a6 = R(a60 + a61*t + a62*t**2 + a63*t**3 + a64*t**4 + a65*t**5 + a66*t**6 + a67*t**7 + a68*t**8 + a69*t**9 + a610*t**10 + a611*t**11 + a612*t**12)\n",
    "```\n"
   ]
  },
  {
   "cell_type": "code",
   "execution_count": 10,
   "metadata": {
    "collapsed": false
   },
   "outputs": [
   ],
   "source": [
    "S.<a10, a11, a12, a20, a21, a22, a23, a24, a30, a31, a32, a33, a34, a35, a36, a40, a41, a42, a43, a44, a45, a46, a47, a48, a60, a61, a62, a63, a64, a65, a66, a67, a68, a69, a610, a611, a612> = PolynomialRing(GF(p))\n",
    "R.<t> = PolynomialRing(S)\n"
   ]
  },
  {
   "cell_type": "code",
   "execution_count": 11,
   "metadata": {
    "collapsed": false
   },
   "outputs": [
   ],
   "source": [
    "a1 = R(a10 + a11*t + a12*t**2)\n",
    "a2 = R(a20 + a21*t + a22*t**2 + a23*t**3 + a24*t**4)\n",
    "a3 = R(a30 + a31*t + a32*t**2 + a33*t**3 + a34*t**4 + a35*t**5 + a36*t**6)\n",
    "a4 = R(a40 + a41*t + a42*t**2 + a43*t**3 + a44*t**4 + a45*t**5 + a46*t**6 + a47*t**7 + a48*t**8)\n",
    "a6 = R(a60 + a61*t + a62*t**2 + a63*t**3 + a64*t**4 + a65*t**5 + a66*t**6 + a67*t**7 + a68*t**8 + a69*t**9 + a610*t**10 + a611*t**11 + a612*t**12)\n"
   ]
  },
  {
   "cell_type": "code",
   "execution_count": 12,
   "metadata": {
    "collapsed": false
   },
   "outputs": [
    {
     "data": {
      "text/html": [
       "<html>\\(\\displaystyle a_{12} t^{2} + a_{11} t + a_{10}\\)</html>"
      ],
      "text/latex": [
       "$\\displaystyle a_{12} t^{2} + a_{11} t + a_{10}$"
      ],
      "text/plain": [
       "a12*t^2 + a11*t + a10"
      ]
     },
     "execution_count": 12,
     "metadata": {
     },
     "output_type": "execute_result"
    },
    {
     "data": {
      "text/html": [
       "<html>\\(\\displaystyle a_{24} t^{4} + a_{23} t^{3} + a_{22} t^{2} + a_{21} t + a_{20}\\)</html>"
      ],
      "text/latex": [
       "$\\displaystyle a_{24} t^{4} + a_{23} t^{3} + a_{22} t^{2} + a_{21} t + a_{20}$"
      ],
      "text/plain": [
       "a24*t^4 + a23*t^3 + a22*t^2 + a21*t + a20"
      ]
     },
     "execution_count": 12,
     "metadata": {
     },
     "output_type": "execute_result"
    },
    {
     "data": {
      "text/html": [
       "<html>\\(\\displaystyle a_{36} t^{6} + a_{35} t^{5} + a_{34} t^{4} + a_{33} t^{3} + a_{32} t^{2} + a_{31} t + a_{30}\\)</html>"
      ],
      "text/latex": [
       "$\\displaystyle a_{36} t^{6} + a_{35} t^{5} + a_{34} t^{4} + a_{33} t^{3} + a_{32} t^{2} + a_{31} t + a_{30}$"
      ],
      "text/plain": [
       "a36*t^6 + a35*t^5 + a34*t^4 + a33*t^3 + a32*t^2 + a31*t + a30"
      ]
     },
     "execution_count": 12,
     "metadata": {
     },
     "output_type": "execute_result"
    },
    {
     "data": {
      "text/html": [
       "<html>\\(\\displaystyle a_{48} t^{8} + a_{47} t^{7} + a_{46} t^{6} + a_{45} t^{5} + a_{44} t^{4} + a_{43} t^{3} + a_{42} t^{2} + a_{41} t + a_{40}\\)</html>"
      ],
      "text/latex": [
       "$\\displaystyle a_{48} t^{8} + a_{47} t^{7} + a_{46} t^{6} + a_{45} t^{5} + a_{44} t^{4} + a_{43} t^{3} + a_{42} t^{2} + a_{41} t + a_{40}$"
      ],
      "text/plain": [
       "a48*t^8 + a47*t^7 + a46*t^6 + a45*t^5 + a44*t^4 + a43*t^3 + a42*t^2 + a41*t + a40"
      ]
     },
     "execution_count": 12,
     "metadata": {
     },
     "output_type": "execute_result"
    },
    {
     "data": {
      "text/html": [
       "<html>\\(\\displaystyle a_{612} t^{12} + a_{611} t^{11} + a_{610} t^{10} + a_{69} t^{9} + a_{68} t^{8} + a_{67} t^{7} + a_{66} t^{6} + a_{65} t^{5} + a_{64} t^{4} + a_{63} t^{3} + a_{62} t^{2} + a_{61} t + a_{60}\\)</html>"
      ],
      "text/latex": [
       "$\\displaystyle a_{612} t^{12} + a_{611} t^{11} + a_{610} t^{10} + a_{69} t^{9} + a_{68} t^{8} + a_{67} t^{7} + a_{66} t^{6} + a_{65} t^{5} + a_{64} t^{4} + a_{63} t^{3} + a_{62} t^{2} + a_{61} t + a_{60}$"
      ],
      "text/plain": [
       "a612*t^12 + a611*t^11 + a610*t^10 + a69*t^9 + a68*t^8 + a67*t^7 + a66*t^6 + a65*t^5 + a64*t^4 + a63*t^3 + a62*t^2 + a61*t + a60"
      ]
     },
     "execution_count": 12,
     "metadata": {
     },
     "output_type": "execute_result"
    }
   ],
   "source": [
    "show(a1)\n",
    "show(a2)\n",
    "show(a3)\n",
    "show(a4)\n",
    "show(a6)\n"
   ]
  },
  {
   "cell_type": "code",
   "execution_count": 13,
   "metadata": {
    "collapsed": false
   },
   "outputs": [
   ],
   "source": [
    "E = EllipticCurve(R,[a1,a2,a3,a4,a6])\n"
   ]
  },
  {
   "cell_type": "code",
   "execution_count": 14,
   "metadata": {
    "collapsed": false
   },
   "outputs": [
    {
     "name": "stdout",
     "output_type": "stream",
     "text": [
      "Elliptic Curve defined by y^2 + (a12*t^2+a11*t+a10)*x*y + (a36*t^6+a35*t^5+a34*t^4+a33*t^3+a32*t^2+a31*t+a30)*y = x^3 + (a24*t^4+a23*t^3+a22*t^2+a21*t+a20)*x^2 + (a48*t^8+a47*t^7+a46*t^6+a45*t^5+a44*t^4+a43*t^3+a42*t^2+a41*t+a40)*x + (a612*t^12+a611*t^11+a610*t^10+a69*t^9+a68*t^8+a67*t^7+a66*t^6+a65*t^5+a64*t^4+a63*t^3+a62*t^2+a61*t+a60) over Univariate Polynomial Ring in t over Multivariate Polynomial Ring in a10, a11, a12, a20, a21, a22, a23, a24, a30, a31, a32, a33, a34, a35, a36, a40, a41, a42, a43, a44, a45, a46, a47, a48, a60, a61, a62, a63, a64, a65, a66, a67, a68, a69, a610, a611, a612 over Finite Field of size 5\n"
     ]
    }
   ],
   "source": [
    "print(E)\n"
   ]
  },
  {
   "cell_type": "code",
   "execution_count": 15,
   "metadata": {
    "collapsed": false
   },
   "outputs": [
   ],
   "source": [
    "Ehat = E.formal_group()\n"
   ]
  },
  {
   "cell_type": "markdown",
   "metadata": {
    "collapsed": false
   },
   "source": [
    "<h2>2. Declaration of the power series <em>F</em></h2>\n"
   ]
  },
  {
   "cell_type": "markdown",
   "metadata": {
    "collapsed": false
   },
   "source": [
    "<p>The ring of Laurent series over a field is the field of fractions of the ring of formal power series over that field [<a id=\"aparicio2013formal_return\" href=\"#aparicio2013formal\">4</a>, Section&nbsp;1].</p>\n",
    "<p>\\[k(\\!(x)\\!)=\\operatorname{Frac}k[\\![x]\\!]\\]</p>\n"
   ]
  },
  {
   "cell_type": "markdown",
   "metadata": {
    "collapsed": false
   },
   "source": [
    "<p><strike>We do the change of variable <em>t</em>&nbsp;&mapsto;&nbsp;<em>t</em><sup>&nbsp;&minus;1</sup>.</strike></p>\n",
    "<p>The variables <em>x</em>, <em>y</em> from Propp [<a id=\"propp2018constructing_return2\" href=\"#propp2018constructing\">2</a>] are called here <em>t</em><sub>1</sub> and <em>t</em><sub>2</sub> respectively.</p>\n"
   ]
  },
  {
   "cell_type": "code",
   "execution_count": 16,
   "metadata": {
    "collapsed": false
   },
   "outputs": [
   ],
   "source": [
    "R.<t> = LaurentSeriesRing(S)\n",
    "T.<t1,t2> = PowerSeriesRing(R)\n"
   ]
  },
  {
   "cell_type": "code",
   "execution_count": 17,
   "metadata": {
    "collapsed": false
   },
   "outputs": [
   ],
   "source": [
    "Ehat = E.formal_group()\n"
   ]
  },
  {
   "cell_type": "code",
   "execution_count": 18,
   "metadata": {
    "collapsed": false
   },
   "outputs": [
   ],
   "source": [
    "n = 4\n"
   ]
  },
  {
   "cell_type": "code",
   "execution_count": 19,
   "metadata": {
    "collapsed": false
   },
   "outputs": [
   ],
   "source": [
    "Ehat_series = Ehat.group_law(n)\n"
   ]
  },
  {
   "cell_type": "code",
   "execution_count": 20,
   "metadata": {
    "collapsed": false
   },
   "outputs": [
    {
     "name": "stdout",
     "output_type": "stream",
     "text": [
      "t1 + t2 + (-a12*t^2 - a11*t - a10)*t1*t2 + (-a24*t^4 - a23*t^3 - a22*t^2 - a21*t - a20)*t1^2*t2 + (-a24*t^4 - a23*t^3 - a22*t^2 - a21*t - a20)*t1*t2^2 + O(t1, t2)^4\n"
     ]
    }
   ],
   "source": [
    "print(Ehat_series)\n"
   ]
  },
  {
   "cell_type": "code",
   "execution_count": 21,
   "metadata": {
    "collapsed": false
   },
   "outputs": [
   ],
   "source": [
    "F = Ehat_series(t1/t, t2/t)\n"
   ]
  },
  {
   "cell_type": "code",
   "execution_count": 22,
   "metadata": {
    "collapsed": false
   },
   "outputs": [
    {
     "name": "stdout",
     "output_type": "stream",
     "text": [
      "(t^-1)*t1 + (t^-1)*t2 + (-a10*t^-2 - a11*t^-1 - a12)*t1*t2 + (-a20*t^-3 - a21*t^-2 - a22*t^-1 - a23 - a24*t)*t1^2*t2 + (-a20*t^-3 - a21*t^-2 - a22*t^-1 - a23 - a24*t)*t1*t2^2 + O(t1, t2)^4\n"
     ]
    }
   ],
   "source": [
    "print(F)\n"
   ]
  },
  {
   "cell_type": "markdown",
   "metadata": {
    "collapsed": false
   },
   "source": [
    "<h2>3. Calculus of coboundary term <em>B</em></h2>\n"
   ]
  },
  {
   "cell_type": "markdown",
   "metadata": {
    "collapsed": false
   },
   "source": [
    "<p><strike>We perform the grading twist of multiplying by <em>t</em><sup>12</sup>.</strike></p>\n",
    "<p><strike>Be careful because this is not a ring homomorphism.</strike></p>\n",
    "<p><strike>Invert the order of the variables.</strike></p>\n",
    "<ul><p><strike>Add another variable <em>t</em>.</strike></p></ul>\n",
    "<p>Unfold the polynomial into a list and then sum terms manually.</p>\n"
   ]
  },
  {
   "cell_type": "code",
   "execution_count": 23,
   "metadata": {
    "collapsed": false
   },
   "outputs": [
   ],
   "source": [
    "from sage.rings.polynomial.polydict import ETuple\n"
   ]
  },
  {
   "cell_type": "code",
   "execution_count": 24,
   "metadata": {
    "collapsed": false
   },
   "outputs": [
   ],
   "source": [
    "def coboundary(F):\n",
    "    B1 = 0\n",
    "    B2 = 0\n",
    "    F_dict = F.dict()\n",
    "    for exp in F.exponents():\n",
    "        term = R(F_dict[exp])\n",
    "        B1_add = T(0)\n",
    "        B2_add = T(0)\n",
    "        B1_add = T(0)\n",
    "        B2_add = T(0)\n",
    "        for exp2 in term.exponents():\n",
    "            if exp2 > -1:\n",
    "                B1_add += T(term[exp2]) * t**exp2\n",
    "            if exp2 < -1:\n",
    "                B2_add += T(term[exp2]) * t**exp2\n",
    "        B1 += B1_add * t1**exp[0] * t2**exp[1]\n",
    "        B2 += B2_add * t1**exp[0] * t2**exp[1]\n",
    "    B1 = B1.add_bigoh(F.prec())\n",
    "    B2 = B2.add_bigoh(F.prec())\n",
    "    return(B1, B2)\n"
   ]
  },
  {
   "cell_type": "code",
   "execution_count": 25,
   "metadata": {
    "collapsed": false
   },
   "outputs": [
    {
     "name": "stdout",
     "output_type": "stream",
     "text": [
      "B1 = (-a12)*t1*t2 + (-a23 - a24*t)*t1^2*t2 + (-a23 - a24*t)*t1*t2^2 + O(t1, t2)^4\n",
      "B2 = (-a10*t^-2)*t1*t2 + (-a20*t^-3 - a21*t^-2)*t1^2*t2 + (-a20*t^-3 - a21*t^-2)*t1*t2^2 + O(t1, t2)^4\n"
     ]
    }
   ],
   "source": [
    "B1, B2 = coboundary(F)\n",
    "print(\"B1 =\",B1)\n",
    "print(\"B2 =\",B2)\n"
   ]
  },
  {
   "cell_type": "markdown",
   "metadata": {
    "collapsed": false
   },
   "source": [
    "<h2>4. Add coboundary terms <em>B</em><sub>+</sub>, <em>B</em><sub>&minus;</sub> to <em>F</em></h2>\n"
   ]
  },
  {
   "cell_type": "markdown",
   "metadata": {
    "collapsed": false
   },
   "source": [
    "<p><strike>The order of precision is not preserved anymore!</strike></p>\n",
    "<p>I&rsquo;m performing a composition of a formal power series <code>Ehat_series</code> with polynomials <code>B1</code>, <code>B2</code> containing terms with both positive and negative exponents.</p>\n",
    "<p>But for each fixed coefficient of <em>x</em><sup><em> i</em></sup> <em>y</em><sup> <em>j</em></sup> there are only finitely many terms in <em>t</em> and <em>t</em><sup> &minus;1</sup>.</p>\n"
   ]
  },
  {
   "cell_type": "code",
   "execution_count": 26,
   "metadata": {
    "collapsed": false
   },
   "outputs": [
   ],
   "source": [
    "F_iter=Ehat_series(Ehat_series(t1/t,t2/t),Ehat_series(-B1,-B2))\n"
   ]
  },
  {
   "cell_type": "code",
   "execution_count": 27,
   "metadata": {
    "collapsed": false
   },
   "outputs": [
    {
     "name": "stdout",
     "output_type": "stream",
     "text": [
      "(t^-1)*t1 + (t^-1)*t2 + (-a11*t^-1)*t1*t2 + (-a10^2*t^-3 - a10*a11*t^-2 + (-2*a10*a12 - a22)*t^-1 - a11*a12 - a12^2*t)*t1^2*t2 + (-a10^2*t^-3 - a10*a11*t^-2 + (-2*a10*a12 - a22)*t^-1 - a11*a12 - a12^2*t)*t1*t2^2 + O(t1, t2)^4\n"
     ]
    }
   ],
   "source": [
    "print(F_iter)\n"
   ]
  },
  {
   "cell_type": "markdown",
   "metadata": {
    "collapsed": false
   },
   "source": [
    "<h2>5. Iterate until <em>F</em> is homogeneous of degree &minus;1 in <em>t</em></h2>\n"
   ]
  },
  {
   "cell_type": "markdown",
   "metadata": {
    "collapsed": false
   },
   "source": [
    "<p>Check if <em>F</em> is homogeneous of degree &minus;1 in <em>t</em>.</p>\n"
   ]
  },
  {
   "cell_type": "code",
   "execution_count": 28,
   "metadata": {
    "collapsed": false
   },
   "outputs": [
   ],
   "source": [
    "def is_homo_1(F):\n",
    "    is_homo = True\n",
    "    F_dict = F.dict()\n",
    "    for exp in F.exponents():\n",
    "        term = F_dict[exp]\n",
    "        if term.exponents() != [-1]:\n",
    "            is_homo = False\n",
    "            break\n",
    "    return(is_homo)\n"
   ]
  },
  {
   "cell_type": "code",
   "execution_count": 29,
   "metadata": {
    "collapsed": false
   },
   "outputs": [
   ],
   "source": [
    "def F_iteration(Ehat):\n",
    "    F = Ehat(t1/t,t2/t)\n",
    "    n_iter = 0\n",
    "    F_iter = F\n",
    "    while not is_homo_1(F_iter):\n",
    "        B1_iter, B2_iter = coboundary(F_iter)\n",
    "        F_iter = Ehat(Ehat(t1/t,t2/t),Ehat(-B1_iter,-B2_iter))\n",
    "        n_iter += 1\n",
    "    Br = F_iter * t\n",
    "    print(n_iter,\"iterations needed\")\n",
    "    return(Br)\n"
   ]
  },
  {
   "cell_type": "code",
   "execution_count": 30,
   "metadata": {
    "collapsed": false
   },
   "outputs": [
    {
     "name": "stdout",
     "output_type": "stream",
     "text": [
      "9 iterations needed\n",
      "t1 + t2 + (-a11)*t1*t2 + ((-2*a10*a12 - a22))*t1^2*t2 + ((-2*a10*a12 - a22))*t1*t2^2 + O(t1, t2)^4\n"
     ]
    }
   ],
   "source": [
    "Br = F_iteration(Ehat_series)\n",
    "print(Br)\n"
   ]
  },
  {
   "cell_type": "markdown",
   "metadata": {
    "collapsed": false
   },
   "source": [
    "<h2>Summary</h2>\n"
   ]
  },
  {
   "cell_type": "markdown",
   "metadata": {
    "collapsed": false
   },
   "source": [
    "<p>Defining rings inside functions is problematic.</p>\n"
   ]
  },
  {
   "cell_type": "code",
   "execution_count": 31,
   "metadata": {
    "collapsed": false
   },
   "outputs": [
   ],
   "source": [
    "def formal_brauer_group(E,n,R):\n",
    "    T.<t1,t2> = PowerSeriesRing(R)\n",
    "    Ehat = E.formal_group().group_law(n)\n",
    "    F = Ehat(t1/t,t2/t)\n",
    "    Br = F_iteration(F)\n",
    "    return(Br)\n"
   ]
  },
  {
   "cell_type": "markdown",
   "metadata": {
    "collapsed": false
   },
   "source": [
    "<h2><em>p</em>-series</h2>\n"
   ]
  },
  {
   "cell_type": "code",
   "execution_count": 32,
   "metadata": {
    "collapsed": false
   },
   "outputs": [
   ],
   "source": [
    "def p_series(F,p):\n",
    "    pF = t1\n",
    "    for i in range(p-1):\n",
    "        pF = F(pF,t1)\n",
    "    return(pF)\n"
   ]
  },
  {
   "cell_type": "code",
   "execution_count": 33,
   "metadata": {
    "collapsed": false
   },
   "outputs": [
    {
     "name": "stdout",
     "output_type": "stream",
     "text": [
      "0 + O(t1, t2)^4\n"
     ]
    }
   ],
   "source": [
    "print(p_series(Br,p))\n"
   ]
  },
  {
   "cell_type": "markdown",
   "metadata": {
    "collapsed": false
   },
   "source": [
    "<h2>References</h2>\n"
   ]
  },
  {
   "cell_type": "markdown",
   "metadata": {
    "collapsed": false
   },
   "source": [
    "<style>\n",
    "    .bibliography{\n",
    "        ol {\n",
    "            list-style: none;\n",
    "            counter-reset: num;\n",
    "            padding: 20px;\n",
    "        }\n",
    "        ol li {\n",
    "            counter-increment: num;\n",
    "        }\n",
    "        ol li::before {\n",
    "            content: \"[\" counter(num) \"] \";\n",
    "        }\n",
    "    }\n",
    "</style>\n",
    "\n",
    "<div class=\"bibliography\">\n",
    "<ol>\n",
    "    <li id=\"artin1974supersingular\">M. Artin, &ldquo;Supersingular <em>K</em>3 surfaces,&rdquo; <em>Annales scientifiques de l&rsquo;&Eacute;cole Normale Sup&eacute;rieure</em>, ser. 4, vol. 7, no. 4, pp. 543&ndash;567, DOI: <a href=\"https://doi.org/10.24033/asens.1279\">10.24033/asens.1279</a>, 1974. <a href=\"#artin1974supersingular_return\">&larrhk;</a></li>\n",
    "    <li id=\"propp2018constructing\">O. Y. Propp, &ldquo;Constructing explicit K3 spectra,&rdquo; <a href=\"https://doi.org/10.48550/arXiv.1810.08953\">arXiv:1810.08953</a> [math.AT], 2018. <a href=\"#propp2018constructing_return1\">&larrhk;</a> <a href=\"#propp2018constructing_return2\">&larrhk;</a></li>\n",
    "    <li id=\"propp2018k3spectra\">O. Y. Propp, <em>k3spectra</em>, <a href=\"https://github.com/oronpropp/k3spectra\">GitHub repository</a>, commit <a href=\"https://github.com/oronpropp/k3spectra/tree/216ad24a903e24220ea07eb8e6c5bbc8222d835b\">21da624</a>, 2018. <a href=\"#propp2018k3spectra_return\">&larrhk;</a></li>\n",
    "    <li id=\"aparicio2013formal\">A. Aparicio Monforte, M. Kauers, &ldquo;Formal Laurent series in several variables,&rdquo; <em>Expositiones Mathematicae</em>, vol. 31, no. 4, pp. 350&ndash;367, DOI: <a href=\"https://doi.org/10.1016/j.exmath.2013.01.004\">10.1016/j.exmath.2013.01.004</a>, 2013. <a href=\"#aparicio2013formal_return\">&larrhk;</a></li>\n",
    "</ol>\n",
    "</div>\n"
   ]
  },
  {
   "cell_type": "markdown",
   "metadata": {
    "collapsed": false
   },
   "source": [
    "<h2>A. Useful functions</h2>\n"
   ]
  },
  {
   "cell_type": "markdown",
   "metadata": {
    "collapsed": false
   },
   "source": [
    "<ul>\n",
    "    <li><code>.inverse()</code>: returns 1/<em>t</em>.</li>\n",
    "    <li><code>.reverse()</code>: returns <em>g</em> with <em>f</em>(<em>g</em>(<em>x</em>))&nbsp;=&nbsp;<em>x</em>.</li>\n",
    "    <li><code>.parent()</code>.</li>\n",
    "    <li><code>.exponents()</code>.</li>\n",
    "    <li><code>.dict()</code>.</li>\n",
    "</ul>\n"
   ]
  },
  {
   "cell_type": "markdown",
   "metadata": {
    "collapsed": false
   },
   "source": [
    "<h3>Guides</h3>\n",
    "<p><a href=\"https://doc.sagemath.org/html/en/reference/power_series/index.html\">Laurent series &amp; power series</a></p>\n",
    "<ul>\n",
    "    <li><a href=\"https://doc.sagemath.org/html/en/reference/power_series/sage/rings/laurent_series_ring_element.html\">Laurent polynomials</a></li>\n",
    "    <li><a href=\"https://doc.sagemath.org/html/en/reference/power_series/sage/rings/multi_power_series_ring.html\">Multivariate power series rings</a></li>\n",
    "    <li><a href=\"https://doc.sagemath.org/html/en/reference/power_series/sage/rings/multi_power_series_ring_element.html\">Multivariate power series</a></li>\n",
    "    <li><a href=\"https://doc.sagemath.org/html/en/thematic_tutorials/tutorial-programming-python.html#dictionaries\">Dictionaries</a></li>\n",
    "</ul>\n"
   ]
  },
  {
   "cell_type": "markdown",
   "metadata": {
    "collapsed": false
   },
   "source": [
    "```\n",
    "# Define a Laurent series ring in one variable x over the rational numbers\n",
    "Lx = LaurentSeriesRing(QQ, 'x')\n",
    "\n",
    "# Define a Laurent series with a truncation order\n",
    "x = Lx.gen()\n",
    "f = x^(-2) + x + O(x^3)\n",
    "\n",
    "# Extract the coefficients and construct the substituted series manually\n",
    "f_sub_terms = {k: f[k] for k in f.exponents()}\n",
    "f_sub = sum(coeff * x^(-exp) for exp, coeff in f_sub_terms.items())\n",
    "\n",
    "# Adjust the truncation order appropriately\n",
    "f_sub_truncated = f_sub.add_bigoh(x^(-3))\n",
    "```\n",
    "\n"
   ]
  },
  {
   "cell_type": "markdown",
   "metadata": {
    "collapsed": false
   },
   "source": [
    "<h2>Plot of elliptic surface</h2>\n"
   ]
  },
  {
   "cell_type": "code",
   "execution_count": 34,
   "metadata": {
    "collapsed": false
   },
   "outputs": [
   ],
   "source": [
    "# a, b, x = var('a b x')\n",
    "# d = 4*a**3 + 27*b**2\n",
    "# assume(d < 0)\n",
    "# solution = solve(x**3 + a*x + b == 0,x)\n",
    "# show(solution[0])\n",
    "# show(solution[1])\n",
    "# show(solution[2])\n"
   ]
  },
  {
   "cell_type": "code",
   "execution_count": 35,
   "metadata": {
    "collapsed": false
   },
   "outputs": [
   ],
   "source": [
    "# from sage.plot.plot3d.parametric_surface import ParametricSurface\n",
    "# theta, phi = var('theta phi')\n",
    "# def f(phi,theta):\n",
    "#     return (cos(phi)*sin(theta), sin(phi)*sin(theta), cos(theta))\n",
    "# g = parametric_plot3d((cos(phi)*sin(theta), sin(phi)*sin(theta), cos(theta)), (phi,0,2*pi), (theta,0,pi), mesh=True, frame=False, color=\"green\")\n",
    "# g += parametric_plot3d((cos(phi)*sin(theta)+3, sin(phi)*sin(theta), cos(theta)), (phi,0,2*pi), (theta,0,pi), mesh=True, frame=False)\n",
    "# p = g.plot()\n",
    "# p.save_image(\"graph.png\", aspect_ratio=[4,4,4])\n"
   ]
  },
  {
   "cell_type": "code",
   "execution_count": 36,
   "metadata": {
    "collapsed": false
   },
   "outputs": [
   ],
   "source": [
    "# x, t = var('x t')\n",
    "# g = parametric_plot3d((x, sqrt(x**3 + t*x + 1), t), (t,-4,1), (x,-2,3), mesh=True, frame=False, opacity=0.6, azimuth=100, elevation=70)\n",
    "# g += parametric_plot3d((x, -sqrt(x**3 + t*x + 1), t), (t,-4,1), (x,-2,3), mesh=True, frame=False, opacity=0.6, azimuth=100, elevation=70)\n",
    "# g.show()\n",
    "# p = g.plot()\n",
    "# p.save_image(\"elliptic-surface.png\")\n"
   ]
  },
  {
   "cell_type": "code",
   "execution_count": 0,
   "metadata": {
    "collapsed": false
   },
   "outputs": [
   ],
   "source": [
   ]
  }
 ],
 "metadata": {
  "kernelspec": {
   "argv": [
    "sage-10.3",
    "--python",
    "-m",
    "sage.repl.ipython_kernel",
    "--matplotlib=inline",
    "-f",
    "{connection_file}"
   ],
   "display_name": "SageMath 10.3",
   "env": {
   },
   "language": "sagemath",
   "metadata": {
    "cocalc": {
     "description": "Open-source mathematical software system",
     "priority": 10,
     "url": "https://www.sagemath.org/"
    }
   },
   "name": "sage-10.3",
   "resource_dir": "/ext/jupyter/kernels/sage-10.3"
  }
 },
 "nbformat": 4,
 "nbformat_minor": 4
}